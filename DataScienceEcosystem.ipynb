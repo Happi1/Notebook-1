{
 "cells": [
  {
   "cell_type": "markdown",
   "id": "785302bf-be45-4d0d-b168-64c74e900f53",
   "metadata": {},
   "source": [
    "# Outils et ecosystèmes de la science des données"
   ]
  },
  {
   "cell_type": "markdown",
   "id": "21363727-0355-4ca1-b152-34d2d34a481f",
   "metadata": {},
   "source": [
    "Dans ce notebook ,les outils et l'écosystème de la science des données sont resumés"
   ]
  },
  {
   "cell_type": "markdown",
   "id": "6fd27b9a-656f-441d-8bcd-07c971105a47",
   "metadata": {},
   "source": [
    "Certains langages populaires sont :\n",
    "\n",
    "1. python\n",
    "\n",
    "2. R\n",
    "\n",
    "3. SQL"
   ]
  },
  {
   "cell_type": "markdown",
   "id": "31d108d9-76dc-45f3-91b5-241d3e9d1092",
   "metadata": {},
   "source": [
    "Certaines des  bibliothèques couramment utilisées par les scientifiques de données incluent :\n",
    "1. Pandas\n",
    "2. Numpy\n",
    "3. Matplotlib"
   ]
  },
  {
   "cell_type": "markdown",
   "id": "1ae52927-1f97-403f-a83a-3ad7af298fff",
   "metadata": {},
   "source": [
    "|Les outils de la science de données sont |\n",
    "|--------------------------------------|\n",
    "|Jupiter Notebook|\n",
    "|Apache Spark|\n",
    "|TensorFlow|\n"
   ]
  },
  {
   "cell_type": "markdown",
   "id": "2248f1ec-e34e-4374-a4cc-91fff39d5575",
   "metadata": {},
   "source": [
    "### Voici quelques exemples d'expressions arithmétiques\n",
    "\n",
    "(3+7)*2\n",
    "\n",
    "(10-4)/2+3**2\n",
    "\n",
    "y=5*x"
   ]
  },
  {
   "cell_type": "code",
   "execution_count": 1,
   "id": "27a183a3-4f8c-488a-a5cd-e5e636228e51",
   "metadata": {},
   "outputs": [
    {
     "data": {
      "text/plain": [
       "17"
      ]
     },
     "execution_count": 1,
     "metadata": {},
     "output_type": "execute_result"
    }
   ],
   "source": [
    "#ceci est une simple expression arithmétique pour multiplier puis additionner des entiers\n",
    "(3*4)+5"
   ]
  },
  {
   "cell_type": "code",
   "execution_count": 3,
   "id": "43cd5c6d-8845-4814-b1c1-102d58467106",
   "metadata": {},
   "outputs": [
    {
     "data": {
      "text/plain": [
       "3.3333333333333335"
      ]
     },
     "execution_count": 3,
     "metadata": {},
     "output_type": "execute_result"
    }
   ],
   "source": [
    "#Cela  convertira 200 minutes en heure en divisant par 60\n",
    "min = 200\n",
    "heure = min/60\n",
    "heure"
   ]
  },
  {
   "cell_type": "markdown",
   "id": "359aab7e-5787-49ba-8e69-d9af160b7a6c",
   "metadata": {},
   "source": [
    "__Objectifs__\n",
    "\n",
    "+Liister les bibliothèque couramment utilisees par les scientifiques de données\n",
    "\n",
    "+Lister les outils open source de la science de données\n",
    "\n",
    "+Lister quelques exemples d'expression arithmétiques"
   ]
  },
  {
   "cell_type": "markdown",
   "id": "3feaa2ac-5915-4538-a291-4227c2792168",
   "metadata": {},
   "source": [
    "## Auteur\n",
    "TAGNE HAPPI WILMA IRINA"
   ]
  },
  {
   "cell_type": "code",
   "execution_count": null,
   "id": "44f0ea07-372e-42a9-9a07-ab3a0836d525",
   "metadata": {},
   "outputs": [],
   "source": []
  }
 ],
 "metadata": {
  "kernelspec": {
   "display_name": "Python 3 (ipykernel)",
   "language": "python",
   "name": "python3"
  },
  "language_info": {
   "codemirror_mode": {
    "name": "ipython",
    "version": 3
   },
   "file_extension": ".py",
   "mimetype": "text/x-python",
   "name": "python",
   "nbconvert_exporter": "python",
   "pygments_lexer": "ipython3",
   "version": "3.12.7"
  }
 },
 "nbformat": 4,
 "nbformat_minor": 5
}
